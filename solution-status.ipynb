{
  "nbformat": 4,
  "nbformat_minor": 0,
  "metadata": {
    "colab": {
      "name": "Untitled0.ipynb",
      "provenance": [],
      "collapsed_sections": []
    },
    "kernelspec": {
      "name": "python3",
      "display_name": "Python 3"
    }
  },
  "cells": [
    {
      "cell_type": "code",
      "execution_count": 11,
      "metadata": {},
      "outputs": [],
      "source": [
        "import os\n",
        "import json\n",
        "import pandas as pd\n",
        "\n",
        "students = (\n",
        "  'ana.sara',\n",
        "  'anny.priscila',\n",
        "  'barbara.brenda',\n",
        "  'camilly.garcia',\n",
        "  'caue.santos',\n",
        "  'clara.cardoso',\n",
        "  'daniella.santos',\n",
        "  'edclaudio.santos',\n",
        "  'eduarda.sousa',\n",
        "  'enrique.sousa',\n",
        "  'fernanda.becker',\n",
        "  'gabriel.targino',\n",
        "  'gisele.silva',\n",
        "  'guilherme.lima',\n",
        "  'iago.vital',\n",
        "  'islene.lima',\n",
        "  'iury.kennedy',\n",
        "  'jean.carlos',\n",
        "  'jhonatha.emmanuel',\n",
        "  'kezia.denyze',\n",
        "  'lais.maria',\n",
        "  'lais.sette',\n",
        "  'larissa.silva',\n",
        "  'leticia.laurentino',\n",
        "  'maria.isabella',\n",
        "  'maria.melo',\n",
        "  'natalia.ellen',\n",
        "  'nicoly.almeida',\n",
        "  'rayanne.rodrigues',\n",
        "  'rebeca.silva',\n",
        "  'santos.costa',\n",
        "  'taw.ham',\n",
        "  'thamiris.savina',\n",
        "  'victor.reinaldo',\n",
        "  'vitoria.cristhyna'\n",
        ")\n",
        "\n",
        "categories = ('ecma', 'web')\n",
        "status = {}\n",
        "\n",
        "for student in students:\n",
        "  status[student] = {}\n",
        "  for category in categories:\n",
        "      problems = os.listdir(category)\n",
        "      for problem in problems:\n",
        "        if problem != '.gitkeep':\n",
        "          path = f'{category}/{problem}/{student}'\n",
        "          status[student][problem] = os.path.isdir(path)\n",
        "\n",
        "df = pd.DataFrame(status)"
      ]
    },
    {
      "cell_type": "code",
      "execution_count": 12,
      "metadata": {},
      "outputs": [
        {
          "data": {
            "text/plain": "santos.costa          7\nvictor.reinaldo       6\njhonatha.emmanuel     4\nvitoria.cristhyna     2\ncamilly.garcia        2\nfernanda.becker       2\niago.vital            2\niury.kennedy          2\nana.sara              2\ngisele.silva          1\nanny.priscila         1\nlais.maria            1\nguilherme.lima        1\ngabriel.targino       0\nbarbara.brenda        0\nthamiris.savina       0\ncaue.santos           0\nclara.cardoso         0\ndaniella.santos       0\nedclaudio.santos      0\neduarda.sousa         0\nenrique.sousa         0\ntaw.ham               0\nmaria.melo            0\nmaria.isabella        0\nrebeca.silva          0\nislene.lima           0\nrayanne.rodrigues     0\nnicoly.almeida        0\nnatalia.ellen         0\nkezia.denyze          0\nlais.sette            0\nlarissa.silva         0\nleticia.laurentino    0\njean.carlos           0\ndtype: int64"
          },
          "execution_count": 12,
          "metadata": {},
          "output_type": "execute_result"
        }
      ],
      "source": [
        "df[df==True].count(axis=0).sort_values(ascending=False)"
      ]
    },
    {
      "cell_type": "code",
      "execution_count": 13,
      "metadata": {},
      "outputs": [
        {
          "data": {
            "text/plain": "function-factorial          0\nfunction-calc               1\nfunction-area-of-circle     1\nbasic-numbers-serie         1\nbasic-numbers-series        1\nfunction-sum                2\nbasic-irrf                  2\nbasic-harmonic-series       3\nbasic-bmi                   9\nbasic-hello                13\ndtype: int64"
          },
          "execution_count": 13,
          "metadata": {},
          "output_type": "execute_result"
        }
      ],
      "source": [
        "df[df==True].count(axis=1).sort_values(ascending=True)"
      ]
    },
    {
      "cell_type": "code",
      "execution_count": 14,
      "metadata": {},
      "outputs": [
        {
          "name": "stdout",
          "output_type": "stream",
          "text": "33\n"
        }
      ],
      "source": [
        "print(df[df==True].count().sum())"
      ]
    }
  ]
}